{
 "cells": [
  {
   "cell_type": "code",
   "execution_count": 1,
   "metadata": {},
   "outputs": [
    {
     "data": {
      "text/html": [
       "<h3>Version Information</h3><table><tr><th>Qiskit Software</th><th>Version</th></tr><tr><td>Qiskit</td><td>0.23.4</td></tr><tr><td>Terra</td><td>0.16.3</td></tr><tr><td>Aer</td><td>0.7.3</td></tr><tr><td>Ignis</td><td>0.5.1</td></tr><tr><td>Aqua</td><td>0.8.1</td></tr><tr><td>IBM Q Provider</td><td>0.11.1</td></tr><tr><th>System information</th></tr><tr><td>Python</td><td>3.7.6 | packaged by conda-forge | (default, Jun  1 2020, 18:57:50) \n",
       "[GCC 7.5.0]</td></tr><tr><td>OS</td><td>Linux</td></tr><tr><td>CPUs</td><td>2</td></tr><tr><td>Memory (Gb)</td><td>25.461994171142578</td></tr><tr><td colspan='2'>Sun May 30 01:41:50 2021 UTC</td></tr></table>"
      ],
      "text/plain": [
       "<IPython.core.display.HTML object>"
      ]
     },
     "metadata": {},
     "output_type": "display_data"
    }
   ],
   "source": [
    "import qiskit.tools.jupyter\n",
    "%qiskit_version_table"
   ]
  },
  {
   "cell_type": "code",
   "execution_count": 75,
   "metadata": {},
   "outputs": [],
   "source": [
    "import qiskit\n",
    "from qiskit import *\n",
    "from qiskit.compiler import assemble\n",
    "from qiskit.visualization import plot_histogram\n",
    "\n",
    "\n",
    "import tensorflow as tf\n",
    "from tensorflow.keras import layers\n",
    "\n",
    "import matplotlib.pyplot as plt\n",
    "import numpy as np\n",
    "import os\n",
    "import pandas as pd\n",
    "from tqdm import tqdm\n",
    "from IPython import display"
   ]
  },
  {
   "cell_type": "code",
   "execution_count": 14,
   "metadata": {},
   "outputs": [],
   "source": [
    "shots = 4000\n",
    "number = 2\n",
    "equality = shots / np.power(2, number)  # shots / 2**number. "
   ]
  },
  {
   "cell_type": "code",
   "execution_count": 15,
   "metadata": {},
   "outputs": [
    {
     "data": {
      "image/png": "[encoded data removed]",
      "text/plain": [
       "<Figure size 387.452x204.68 with 1 Axes>"
      ]
     },
     "execution_count": 15,
     "metadata": {},
     "output_type": "execute_result"
    }
   ],
   "source": [
    "qc = QuantumCircuit(number, number)\n",
    "\n",
    "rng = np.random.default_rng()\n",
    "\n",
    "for i in range(number):\n",
    "    qc.rx(rng.random() * np.pi, i)\n",
    "    qc.ry(rng.random() * np.pi, i)\n",
    "    qc.rz(rng.random() * np.pi, i)\n",
    "    \n",
    "qc.measure(range(number), range(number))\n",
    "qc.draw(\"mpl\")"
   ]
  },
  {
   "cell_type": "code",
   "execution_count": 16,
   "metadata": {},
   "outputs": [
    {
     "data": {
      "image/png": "[encoded data removed]",
      "text/plain": [
       "<Figure size 504x360 with 1 Axes>"
      ]
     },
     "execution_count": 16,
     "metadata": {},
     "output_type": "execute_result"
    }
   ],
   "source": [
    "backend = Aer.get_backend('qasm_simulator')\n",
    "circ = transpile(qc, backend)\n",
    "\n",
    "qobj = assemble(circ, shots=shots)\n",
    "\n",
    "# Run and get counts\n",
    "result = backend.run(qobj).result()\n",
    "counts = result.get_counts()\n",
    "plot_histogram(counts)"
   ]
  },
  {
   "cell_type": "markdown",
   "metadata": {},
   "source": [
    "# Machine Learning (ML)\n",
    "\n",
    "What we are going to do is something similar to Generative Adversarial Network (GAN). For more information on GANs, please search online (e.g. https://wiki.pathmind.com/generative-adversarial-network-gan or any other webpages). \n",
    "\n",
    "In brief, GAN consists of 2 ML models called the generator and discriminator. If we take the concept of painting a picture. The generator will be a child trying to mimic painting a Mona Lisa. The discriminator will be the judge comparing the painted picture to the real Mona Lisa. And, depending on how good/bad the painting are, the discriminator will reward/punish the generator (with different strengths depending on the difference of course). The goal of the generator is to fool the discriminator into believing it is drawing a real Mona Lisa. The role of the discriminator is to ensure it always pick the correct real Mona Lisa. \n",
    "\n",
    "Ultimately, for the generator of a GAN, we would like to generate a matrix where it represents the rotational value of the matrix of Rx, Ry, and Rz gates, element-wise (or position-wise). \n",
    "\n",
    "However, we are going to replace the discriminator with a non-ML model. We are going to use the Qiskit Circuit as the discriminator. The resulting output will be the counts. \n",
    "\n",
    "Next, we will want to tune the parameters such that the output will be what we want. Say, like the above, we want all $00, 01, 10, 11$ to be equal (or it could be anything, we are just using \"equal\" to take it easy, one step at a time). \n",
    "\n",
    "Then after the generator generate a matrix of values, we will substitute them into the Circuit, then run the result for a number of shots to get the result. This result will be used in the calculation of Mean Squared Error (or Mean Absolute Error, Root Mean Squared Error, Earth Mover Distance, whatever useful...) and that error, which is called \"loss\", will be sent back to the generator. \n",
    "\n",
    "This process will be repeated until the generator can do so well. (Alternatively, until we humans are happy with the result, then we can stop training, since GAN are unstable). "
   ]
  },
  {
   "cell_type": "markdown",
   "metadata": {},
   "source": [
    "## Caveats\n",
    "\n",
    "- It's not even sure whether this will work or not. Especially the discriminator is not a model and one had never done this before so this is an ambitious experimentation. "
   ]
  },
  {
   "cell_type": "code",
   "execution_count": 20,
   "metadata": {
    "scrolled": true
   },
   "outputs": [
    {
     "name": "stdout",
     "output_type": "stream",
     "text": [
      "{'00': 1000.0, '01': 1000.0, '10': 1000.0, '11': 1000.0} \n",
      " {'00': 614, '01': 551, '10': 1488, '11': 1347}\n"
     ]
    }
   ],
   "source": [
    "target = {\"00\": equality, \"01\": equality, \"10\": equality, \"11\": equality}\n",
    "\n",
    "print(target, \"\\n\", counts)"
   ]
  },
  {
   "cell_type": "markdown",
   "metadata": {},
   "source": [
    "### The Generator"
   ]
  },
  {
   "cell_type": "code",
   "execution_count": 136,
   "metadata": {},
   "outputs": [],
   "source": [
    "def make_generator_model():\n",
    "    model = tf.keras.Sequential()\n",
    "    model.add(layers.Dense(2*3*1, use_bias=False, input_shape=(6, )))\n",
    "    model.add(layers.BatchNormalization())\n",
    "    model.add(layers.LeakyReLU())\n",
    "    \n",
    "    model.add(layers.Reshape((2, 3, 1)))\n",
    "    model.add(layers.Conv2DTranspose(1, (2, 2), strides=(1, 1), padding=\"same\", use_bias=False, activation=\"tanh\"))\n",
    "    assert model.output_shape == (None, 2, 3, 1)\n",
    "    \n",
    "    return model"
   ]
  },
  {
   "cell_type": "code",
   "execution_count": 137,
   "metadata": {},
   "outputs": [
    {
     "data": {
      "text/plain": [
       "array([[-0.27240333, -0.13862278, -0.05024996],\n",
       "       [ 0.33727655, -0.22472273, -0.2957398 ]], dtype=float32)"
      ]
     },
     "execution_count": 137,
     "metadata": {},
     "output_type": "execute_result"
    }
   ],
   "source": [
    "generator = make_generator_model()\n",
    "\n",
    "noise = tf.random.normal([1, 6])\n",
    "generated_image = generator(noise, training=False)\n",
    "\n",
    "np.squeeze(generated_image)"
   ]
  },
  {
   "cell_type": "markdown",
   "metadata": {},
   "source": [
    "### The Discriminator\n",
    "\n",
    "Note that the values generated are not the final value but we multiply by $\\pi$ in the discriminator. This can or can not be done, depending on taste. However, whether it works better with or without requires further experimentation. "
   ]
  },
  {
   "cell_type": "code",
   "execution_count": 138,
   "metadata": {},
   "outputs": [
    {
     "data": {
      "image/png": "[encoded data removed]",
      "text/plain": [
       "<Figure size 387.452x204.68 with 1 Axes>"
      ]
     },
     "execution_count": 138,
     "metadata": {},
     "output_type": "execute_result"
    }
   ],
   "source": [
    "generated_image = np.squeeze(generated_image)\n",
    "\n",
    "qc = QuantumCircuit(number, number)\n",
    "\n",
    "for i in range(number):\n",
    "    qc.rx(generated_image[i][0] * np.pi, i)\n",
    "    qc.ry(generated_image[i][1] * np.pi, i)\n",
    "    qc.rz(generated_image[i][2] * np.pi, i)\n",
    "    \n",
    "qc.measure(range(number), range(number))\n",
    "qc.draw(\"mpl\")"
   ]
  },
  {
   "cell_type": "code",
   "execution_count": 139,
   "metadata": {},
   "outputs": [
    {
     "data": {
      "image/png": "[encoded data removed]",
      "text/plain": [
       "<Figure size 504x360 with 1 Axes>"
      ]
     },
     "execution_count": 139,
     "metadata": {},
     "output_type": "execute_result"
    }
   ],
   "source": [
    "backend = Aer.get_backend('qasm_simulator')\n",
    "circ = transpile(qc, backend)\n",
    "\n",
    "qobj = assemble(circ, shots=shots)\n",
    "\n",
    "# Run and get counts\n",
    "result = backend.run(qobj).result()\n",
    "counts = result.get_counts()\n",
    "plot_histogram(counts)"
   ]
  },
  {
   "cell_type": "code",
   "execution_count": 140,
   "metadata": {},
   "outputs": [],
   "source": [
    "mseloss = tf.keras.losses.MeanSquaredError()"
   ]
  },
  {
   "cell_type": "markdown",
   "metadata": {},
   "source": [
    "#### One method of generator loss (gen_loss) is this"
   ]
  },
  {
   "cell_type": "code",
   "execution_count": 141,
   "metadata": {},
   "outputs": [],
   "source": [
    "def gen_loss(y_true, y_pred):\n",
    "    \"\"\"\n",
    "    Using Mean Squared Error (MSE) in this calculation. \n",
    "    \n",
    "    :param y_true: (dict) The target we want to achieve. (i.e. Equality)\n",
    "    :param y_pred: (dict) Output based on what is generated by generator. \n",
    "    \"\"\"\n",
    "    agg = 0\n",
    "    for key in target.keys():\n",
    "        y_true = target[key]\n",
    "        y_pred = counts[key]\n",
    "        \n",
    "        mse_loss = np.square((y_true - y_pred) / shots)\n",
    "        \n",
    "        agg += mse_loss\n",
    "        \n",
    "    return agg"
   ]
  },
  {
   "cell_type": "code",
   "execution_count": 142,
   "metadata": {},
   "outputs": [
    {
     "data": {
      "text/plain": [
       "0.144304875"
      ]
     },
     "execution_count": 142,
     "metadata": {},
     "output_type": "execute_result"
    }
   ],
   "source": [
    "gen_loss(target, counts)"
   ]
  },
  {
   "cell_type": "markdown",
   "metadata": {},
   "source": [
    "#### However another more useful one is this"
   ]
  },
  {
   "cell_type": "code",
   "execution_count": 143,
   "metadata": {},
   "outputs": [],
   "source": [
    "df1 = pd.DataFrame(target, index=[0])\n",
    "# df1 = df1.append(pd.DataFrame(counts, index=[0]))\n",
    "\n",
    "# df1 = df1.T\n",
    "df2 = pd.DataFrame(counts, index=[0])"
   ]
  },
  {
   "cell_type": "code",
   "execution_count": 144,
   "metadata": {},
   "outputs": [],
   "source": [
    "target = {\"00\": equality, \"01\": equality, \"10\": equality, \"11\": equality}\n",
    "\n",
    "def gen_loss(y_pred):\n",
    "    \"\"\"\n",
    "    Using Mean Squared Error (MSE) in this calculation. \n",
    "    \n",
    "    :param y_pred: (dict) Output based on what is generated by generator. \n",
    "    \"\"\"\n",
    "#     agg = 0\n",
    "#     for key in target.keys():\n",
    "#         y_true = target[key]\n",
    "#         y_pred = counts[key]\n",
    "        \n",
    "#         mse_loss = np.square((y_true - y_pred) / shots)\n",
    "        \n",
    "#         agg += mse_loss\n",
    "\n",
    "    # The y_true above is just \n",
    "    y_true = pd.DataFrame(target, index=[0]) / shots\n",
    "    y_pred = pd.DataFrame(y_pred, index=[0]) / shots\n",
    "    \n",
    "    return mseloss(np.array(y_true), np.array(y_pred))"
   ]
  },
  {
   "cell_type": "code",
   "execution_count": 145,
   "metadata": {},
   "outputs": [
    {
     "data": {
      "text/plain": [
       "<tf.Tensor: shape=(), dtype=float64, numpy=0.03607621788978577>"
      ]
     },
     "execution_count": 145,
     "metadata": {},
     "output_type": "execute_result"
    }
   ],
   "source": [
    "gen_loss(counts)"
   ]
  },
  {
   "cell_type": "markdown",
   "metadata": {},
   "source": [
    "I have no idea why they are different values. Perhaps I might have implement them wrongly. Whichever way, as long as we keep it consistent there shouldn't be big problem. If there is then we'll see how to solve it when it arise. "
   ]
  },
  {
   "cell_type": "code",
   "execution_count": 146,
   "metadata": {},
   "outputs": [],
   "source": [
    "cross_entropy = tf.losses.BinaryCrossentropy(from_logits=True, reduction=tf.losses.Reduction.SUM)\n",
    "\n",
    "def gen_loss(y_pred):\n",
    "    y_pred = pd.DataFrame(y_pred, index=[0]) / shots\n",
    "    return cross_entropy(tf.ones_like(np.array(y_pred)), np.array(y_pred))"
   ]
  },
  {
   "cell_type": "code",
   "execution_count": 147,
   "metadata": {},
   "outputs": [],
   "source": [
    "gen_opt = tf.keras.optimizers.Adam(1e-4)"
   ]
  },
  {
   "cell_type": "code",
   "execution_count": 148,
   "metadata": {},
   "outputs": [],
   "source": [
    "BATCH_SIZE = 1\n",
    "EPOCHS = 100\n",
    "noise_dim = 6\n",
    "\n",
    "seed = tf.random.normal([1, noise_dim])"
   ]
  },
  {
   "cell_type": "code",
   "execution_count": 149,
   "metadata": {},
   "outputs": [],
   "source": [
    "backend = Aer.get_backend('qasm_simulator')\n",
    "\n",
    "\n",
    "def discriminator(generated_image):\n",
    "    generated_image = np.squeeze(generated_image)\n",
    "\n",
    "    qc = QuantumCircuit(number, number)\n",
    "\n",
    "    for i in range(number):\n",
    "        qc.rx(generated_image[i][0] * np.pi, i)\n",
    "        qc.ry(generated_image[i][1] * np.pi, i)\n",
    "        qc.rz(generated_image[i][2] * np.pi, i)\n",
    "\n",
    "    qc.measure(range(number), range(number))\n",
    "    \n",
    "    circ = transpile(qc, backend)\n",
    "\n",
    "    qobj = assemble(circ, shots=shots)\n",
    "\n",
    "    # Run and get counts\n",
    "    result = backend.run(qobj).result()\n",
    "    counts = result.get_counts()\n",
    "    \n",
    "    return counts"
   ]
  },
  {
   "cell_type": "code",
   "execution_count": 150,
   "metadata": {},
   "outputs": [],
   "source": [
    "@tf.function\n",
    "def train_step():\n",
    "    noise = tf.random.normal([BATCH_SIZE, noise_dim])\n",
    "    \n",
    "    with tf.GradientTape() as gen_tape:\n",
    "        generated_images = generator(noise, training=True)\n",
    "        \n",
    "#         real_output = target  # Put here to not confuse myself despite non-optimized. \n",
    "        fake_output = discriminator(generated_images)\n",
    "        \n",
    "        generator_loss = gen_loss(fake_output)\n",
    "        \n",
    "    gradients_of_generator = gen_tape.gradient(generator_loss, generator.trainable_variables)\n",
    "    \n",
    "    gen_opt.apply_gradients(zip(gradients_of_generator, generator.trainable_variables))"
   ]
  },
  {
   "cell_type": "code",
   "execution_count": 182,
   "metadata": {},
   "outputs": [],
   "source": [
    "def train(epochs):\n",
    "    for epoch in tqdm(range(epochs)):\n",
    "        \n",
    "#         train_step()\n",
    "        noise = tf.random.normal([BATCH_SIZE, noise_dim])\n",
    "\n",
    "        with tf.GradientTape() as gen_tape:\n",
    "            generated_images = generator(noise, training=True)\n",
    "\n",
    "    #         real_output = target  # Put here to not confuse myself despite non-optimized. \n",
    "            fake_output = discriminator(generated_images)\n",
    "\n",
    "#             generator_loss = gen_loss(fake_output)\n",
    "\n",
    "            generator_loss = cross_entropy(tf.zeros_like(generated_images), generated_images)\n",
    "            \n",
    "\n",
    "        gradients_of_generator = gen_tape.gradient(generator_loss, generator.trainable_variables)\n",
    "        \n",
    "        gen_opt.apply_gradients(zip(gradients_of_generator, generator.trainable_variables))\n",
    "        \n",
    "    generate_output(generator, seed)"
   ]
  },
  {
   "cell_type": "code",
   "execution_count": 183,
   "metadata": {},
   "outputs": [],
   "source": [
    "def generate_output(generator, seed):\n",
    "    prediction = generator(seed, training=False)\n",
    "    \n",
    "    output = discriminator(prediction)\n",
    "    \n",
    "    plot_histogram(output)\n",
    "    print(output)"
   ]
  },
  {
   "cell_type": "code",
   "execution_count": 184,
   "metadata": {},
   "outputs": [
    {
     "name": "stderr",
     "output_type": "stream",
     "text": [
      "100%|██████████| 100/100 [00:02<00:00, 41.92it/s]\n"
     ]
    },
    {
     "name": "stdout",
     "output_type": "stream",
     "text": [
      "{'00': 3996, '01': 4}\n"
     ]
    }
   ],
   "source": [
    "train(EPOCHS)"
   ]
  },
  {
   "cell_type": "code",
   "execution_count": 163,
   "metadata": {},
   "outputs": [],
   "source": [
    "with tf.GradientTape() as gen_tape:\n",
    "    generated_images = generator(noise, training=True)\n",
    "\n",
    "#         real_output = target  # Put here to not confuse myself despite non-optimized. \n",
    "#     fake_output = discriminator(generated_images)\n",
    "    \n",
    "#     y_true = pd.DataFrame(target, index=[0]) / shots\n",
    "#     y_pred = pd.DataFrame(fake_output, index=[0]) / shots\n",
    "    \n",
    "#     generator_loss =  mseloss(np.array(y_true), np.array(y_pred))\n",
    "\n",
    "    generator_loss = cross_entropy(tf.ones_like(generated_images), generated_images)\n",
    "    \n",
    "# print(generator_loss)\n",
    "\n",
    "gradients_of_generator = gen_tape.gradient(generator_loss, generator.trainable_variables)\n",
    "# print(gradients_of_generator)\n",
    "        "
   ]
  },
  {
   "cell_type": "code",
   "execution_count": 131,
   "metadata": {},
   "outputs": [
    {
     "name": "stdout",
     "output_type": "stream",
     "text": [
      "tf.Tensor(10.172235, shape=(), dtype=float32)\n"
     ]
    }
   ],
   "source": [
    "w = tf.Variable(tf.random.normal((3, 2)), name='w')\n",
    "b = tf.Variable(tf.zeros(2, dtype=tf.float32), name='b')\n",
    "x = [[1., 2., 3.]]\n",
    "\n",
    "with tf.GradientTape(persistent=True) as tape:\n",
    "  y = x @ w + b\n",
    "  loss = tf.reduce_mean(y**2)\n",
    "    \n",
    "print(loss)"
   ]
  },
  {
   "cell_type": "code",
   "execution_count": 132,
   "metadata": {},
   "outputs": [
    {
     "data": {
      "text/plain": [
       "[<tf.Tensor: shape=(3, 2), dtype=float32, numpy=\n",
       " array([[ 0.7124175,  4.453867 ],\n",
       "        [ 1.424835 ,  8.907734 ],\n",
       "        [ 2.1372523, 13.361601 ]], dtype=float32)>,\n",
       " <tf.Tensor: shape=(2,), dtype=float32, numpy=array([0.7124175, 4.453867 ], dtype=float32)>]"
      ]
     },
     "execution_count": 132,
     "metadata": {},
     "output_type": "execute_result"
    }
   ],
   "source": [
    "tape.gradient(loss, [w, b])"
   ]
  },
  {
   "cell_type": "code",
   "execution_count": 133,
   "metadata": {},
   "outputs": [
    {
     "data": {
      "text/plain": [
       "[<tf.Variable 'w:0' shape=(3, 2) dtype=float32, numpy=\n",
       " array([[-0.14438994,  1.1685482 ],\n",
       "        [ 0.13833162,  1.7407593 ],\n",
       "        [ 0.1933814 , -0.06540004]], dtype=float32)>,\n",
       " <tf.Variable 'b:0' shape=(2,) dtype=float32, numpy=array([0., 0.], dtype=float32)>]"
      ]
     },
     "execution_count": 133,
     "metadata": {},
     "output_type": "execute_result"
    }
   ],
   "source": [
    "[w, b]"
   ]
  },
  {
   "cell_type": "code",
   "execution_count": 155,
   "metadata": {},
   "outputs": [
    {
     "ename": "RuntimeError",
     "evalue": "GradientTape.gradient can only be called once on non-persistent tapes.",
     "output_type": "error",
     "traceback": [
      "\u001b[0;31m---------------------------------------------------------------------------\u001b[0m",
      "\u001b[0;31mRuntimeError\u001b[0m                              Traceback (most recent call last)",
      "\u001b[0;32m<ipython-input-155-7e0f49ced5e4>\u001b[0m in \u001b[0;36m<module>\u001b[0;34m\u001b[0m\n\u001b[0;32m----> 1\u001b[0;31m \u001b[0mgen_tape\u001b[0m\u001b[0;34m.\u001b[0m\u001b[0mgradient\u001b[0m\u001b[0;34m(\u001b[0m\u001b[0mloss\u001b[0m\u001b[0;34m,\u001b[0m \u001b[0mgenerator\u001b[0m\u001b[0;34m.\u001b[0m\u001b[0mtrainable_variables\u001b[0m\u001b[0;34m)\u001b[0m\u001b[0;34m\u001b[0m\u001b[0;34m\u001b[0m\u001b[0m\n\u001b[0m",
      "\u001b[0;32m/opt/conda/lib/python3.7/site-packages/tensorflow_core/python/eager/backprop.py\u001b[0m in \u001b[0;36mgradient\u001b[0;34m(self, target, sources, output_gradients, unconnected_gradients)\u001b[0m\n\u001b[1;32m    978\u001b[0m     \"\"\"\n\u001b[1;32m    979\u001b[0m     \u001b[0;32mif\u001b[0m \u001b[0mself\u001b[0m\u001b[0;34m.\u001b[0m\u001b[0m_tape\u001b[0m \u001b[0;32mis\u001b[0m \u001b[0;32mNone\u001b[0m\u001b[0;34m:\u001b[0m\u001b[0;34m\u001b[0m\u001b[0;34m\u001b[0m\u001b[0m\n\u001b[0;32m--> 980\u001b[0;31m       raise RuntimeError(\"GradientTape.gradient can only be called once on \"\n\u001b[0m\u001b[1;32m    981\u001b[0m                          \"non-persistent tapes.\")\n\u001b[1;32m    982\u001b[0m     \u001b[0;32mif\u001b[0m \u001b[0mself\u001b[0m\u001b[0;34m.\u001b[0m\u001b[0m_recording\u001b[0m\u001b[0;34m:\u001b[0m\u001b[0;34m\u001b[0m\u001b[0;34m\u001b[0m\u001b[0m\n",
      "\u001b[0;31mRuntimeError\u001b[0m: GradientTape.gradient can only be called once on non-persistent tapes."
     ]
    }
   ],
   "source": [
    "gen_tape.gradient(loss, generator.trainable_variables)"
   ]
  },
  {
   "cell_type": "code",
   "execution_count": null,
   "metadata": {},
   "outputs": [],
   "source": []
  }
 ],
 "metadata": {
  "kernelspec": {
   "display_name": "Python 3",
   "language": "python",
   "name": "python3"
  },
  "language_info": {
   "codemirror_mode": {
    "name": "ipython",
    "version": 3
   },
   "file_extension": ".py",
   "mimetype": "text/x-python",
   "name": "python",
   "nbconvert_exporter": "python",
   "pygments_lexer": "ipython3",
   "version": "3.7.6"
  }
 },
 "nbformat": 4,
 "nbformat_minor": 2
}
