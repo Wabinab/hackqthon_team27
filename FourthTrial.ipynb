{
  "nbformat": 4,
  "nbformat_minor": 0,
  "metadata": {
    "colab": {
      "name": "FourthTrial.ipynb",
      "provenance": [],
      "authorship_tag": "ABX9TyMCjRc3TvqIW70E9mveFq22",
      "include_colab_link": true
    },
    "kernelspec": {
      "name": "python3",
      "display_name": "Python 3"
    },
    "language_info": {
      "name": "python"
    },
    "accelerator": "GPU"
  },
  "cells": [
    {
      "cell_type": "markdown",
      "metadata": {
        "id": "view-in-github",
        "colab_type": "text"
      },
      "source": [
        "<a href=\"https://colab.research.google.com/github/Wabinab/hackqthon_team27/blob/main/FourthTrial.ipynb\" target=\"_parent\"><img src=\"https://colab.research.google.com/assets/colab-badge.svg\" alt=\"Open In Colab\"/></a>"
      ]
    },
    {
      "cell_type": "code",
      "metadata": {
        "colab": {
          "base_uri": "https://localhost:8080/"
        },
        "id": "T96wbkMa0TCn",
        "outputId": "ca08b387-a318-42b8-b715-b1a75bbda2a0"
      },
      "source": [
        "!pip install qiskit"
      ],
      "execution_count": 1,
      "outputs": [
        {
          "output_type": "stream",
          "text": [
            "Collecting qiskit\n",
            "  Downloading https://files.pythonhosted.org/packages/6f/61/cb7506e17a2566dc8a31a3e1924d91ac0bdd8ff07c71ec698c06647b6306/qiskit-0.26.2.tar.gz\n",
            "Collecting qiskit-terra==0.17.4\n",
            "\u001b[?25l  Downloading https://files.pythonhosted.org/packages/b3/0c/3c7a8dd451dae0907263e9de9e3e34909e15e18c88a589b44581972c8511/qiskit_terra-0.17.4-cp37-cp37m-manylinux2010_x86_64.whl (6.0MB)\n",
            "\u001b[K     |████████████████████████████████| 6.0MB 7.3MB/s \n",
            "\u001b[?25hCollecting qiskit-aer==0.8.2\n",
            "\u001b[?25l  Downloading https://files.pythonhosted.org/packages/c2/d2/6ff15c370b5465b32529b528bf3f4ce1e01f74498be16203aa1c04b67022/qiskit_aer-0.8.2-cp37-cp37m-manylinux2010_x86_64.whl (18.0MB)\n",
            "\u001b[K     |████████████████████████████████| 18.0MB 187kB/s \n",
            "\u001b[?25hCollecting qiskit-ibmq-provider==0.13.1\n",
            "\u001b[?25l  Downloading https://files.pythonhosted.org/packages/be/99/74bbb901f88603a7d850d4889abc06d81ba702e4227151f4a5b66f2631fe/qiskit_ibmq_provider-0.13.1-py3-none-any.whl (228kB)\n",
            "\u001b[K     |████████████████████████████████| 235kB 52.0MB/s \n",
            "\u001b[?25hCollecting qiskit-ignis==0.6.0\n",
            "\u001b[?25l  Downloading https://files.pythonhosted.org/packages/54/be/a13c828e457e09d979667a61bddbd8c7246aafa94e2501b6a9154429cbea/qiskit_ignis-0.6.0-py3-none-any.whl (207kB)\n",
            "\u001b[K     |████████████████████████████████| 215kB 57.9MB/s \n",
            "\u001b[?25hCollecting qiskit-aqua==0.9.1\n",
            "\u001b[?25l  Downloading https://files.pythonhosted.org/packages/88/79/392c57b978decbb24b902344b536af52c40a751aed0ebbaefa8bc2964cb5/qiskit_aqua-0.9.1-py3-none-any.whl (2.1MB)\n",
            "\u001b[K     |████████████████████████████████| 2.1MB 43.4MB/s \n",
            "\u001b[?25hRequirement already satisfied: sympy>=1.3 in /usr/local/lib/python3.7/dist-packages (from qiskit-terra==0.17.4->qiskit) (1.7.1)\n",
            "Requirement already satisfied: psutil>=5 in /usr/local/lib/python3.7/dist-packages (from qiskit-terra==0.17.4->qiskit) (5.4.8)\n",
            "Collecting fastjsonschema>=2.10\n",
            "  Downloading https://files.pythonhosted.org/packages/d1/fb/ea090e917b18320f79be31d754bbe496b715175e865603cfce1eaed2e774/fastjsonschema-2.15.1-py3-none-any.whl\n",
            "Requirement already satisfied: python-dateutil>=2.8.0 in /usr/local/lib/python3.7/dist-packages (from qiskit-terra==0.17.4->qiskit) (2.8.1)\n",
            "Collecting retworkx>=0.8.0\n",
            "\u001b[?25l  Downloading https://files.pythonhosted.org/packages/1b/92/f007f8b9d88dcd5b90e363967e5d54431a68c5fe06d83400732e3b438084/retworkx-0.8.0-cp37-cp37m-manylinux2010_x86_64.whl (1.0MB)\n",
            "\u001b[K     |████████████████████████████████| 1.0MB 36.8MB/s \n",
            "\u001b[?25hRequirement already satisfied: dill>=0.3 in /usr/local/lib/python3.7/dist-packages (from qiskit-terra==0.17.4->qiskit) (0.3.3)\n",
            "Requirement already satisfied: scipy>=1.4 in /usr/local/lib/python3.7/dist-packages (from qiskit-terra==0.17.4->qiskit) (1.4.1)\n",
            "Collecting python-constraint>=1.4\n",
            "  Downloading https://files.pythonhosted.org/packages/37/8b/5f1bc2734ca611943e1d6733ee244238679f6410a10cd45ede55a61a8402/python-constraint-1.4.0.tar.bz2\n",
            "Collecting ply>=3.10\n",
            "\u001b[?25l  Downloading https://files.pythonhosted.org/packages/a3/58/35da89ee790598a0700ea49b2a66594140f44dec458c07e8e3d4979137fc/ply-3.11-py2.py3-none-any.whl (49kB)\n",
            "\u001b[K     |████████████████████████████████| 51kB 9.3MB/s \n",
            "\u001b[?25hRequirement already satisfied: numpy>=1.17 in /usr/local/lib/python3.7/dist-packages (from qiskit-terra==0.17.4->qiskit) (1.19.5)\n",
            "Requirement already satisfied: jsonschema>=2.6 in /usr/local/lib/python3.7/dist-packages (from qiskit-terra==0.17.4->qiskit) (2.6.0)\n",
            "Collecting pybind11>=2.6\n",
            "\u001b[?25l  Downloading https://files.pythonhosted.org/packages/8d/43/7339dbabbc2793718d59703aace4166f53c29ee1c202f6ff5bf8a26c4d91/pybind11-2.6.2-py2.py3-none-any.whl (191kB)\n",
            "\u001b[K     |████████████████████████████████| 194kB 55.3MB/s \n",
            "\u001b[?25hRequirement already satisfied: nest-asyncio!=1.1.0,>=1.0.0 in /usr/local/lib/python3.7/dist-packages (from qiskit-ibmq-provider==0.13.1->qiskit) (1.5.1)\n",
            "Collecting requests-ntlm>=1.1.0\n",
            "  Downloading https://files.pythonhosted.org/packages/03/4b/8b9a1afde8072c4d5710d9fa91433d504325821b038e00237dc8d6d833dc/requests_ntlm-1.1.0-py2.py3-none-any.whl\n",
            "Collecting websockets>=8\n",
            "\u001b[?25l  Downloading https://files.pythonhosted.org/packages/84/64/78c2b3fe37730b30dca3c93d1f7f4a4286767f86e7c04cf3571b39bc2fb7/websockets-9.1-cp37-cp37m-manylinux2010_x86_64.whl (103kB)\n",
            "\u001b[K     |████████████████████████████████| 112kB 54.5MB/s \n",
            "\u001b[?25hRequirement already satisfied: urllib3>=1.21.1 in /usr/local/lib/python3.7/dist-packages (from qiskit-ibmq-provider==0.13.1->qiskit) (1.24.3)\n",
            "Requirement already satisfied: requests>=2.19 in /usr/local/lib/python3.7/dist-packages (from qiskit-ibmq-provider==0.13.1->qiskit) (2.23.0)\n",
            "Requirement already satisfied: setuptools>=40.1.0 in /usr/local/lib/python3.7/dist-packages (from qiskit-ignis==0.6.0->qiskit) (56.1.0)\n",
            "Requirement already satisfied: scikit-learn<=0.24.1,>=0.20.0 in /usr/local/lib/python3.7/dist-packages (from qiskit-aqua==0.9.1->qiskit) (0.22.2.post1)\n",
            "Requirement already satisfied: pandas<=1.2.3 in /usr/local/lib/python3.7/dist-packages (from qiskit-aqua==0.9.1->qiskit) (1.1.5)\n",
            "Collecting docplex<=2.20.204; sys_platform != \"darwin\"\n",
            "\u001b[?25l  Downloading https://files.pythonhosted.org/packages/87/99/6f7c219b39fd58c84688ad0713eb932bfcf6be81fc74519e43ea9c915b56/docplex-2.20.204.tar.gz (611kB)\n",
            "\u001b[K     |████████████████████████████████| 614kB 45.4MB/s \n",
            "\u001b[?25hRequirement already satisfied: fastdtw<=0.3.4 in /usr/local/lib/python3.7/dist-packages (from qiskit-aqua==0.9.1->qiskit) (0.3.4)\n",
            "Requirement already satisfied: h5py<=3.1.0 in /usr/local/lib/python3.7/dist-packages (from qiskit-aqua==0.9.1->qiskit) (3.1.0)\n",
            "Collecting yfinance<=0.1.55\n",
            "  Downloading https://files.pythonhosted.org/packages/7a/e8/b9d7104d3a4bf39924799067592d9e59119fcfc900a425a12e80a3123ec8/yfinance-0.1.55.tar.gz\n",
            "Collecting dlx<=1.0.4\n",
            "  Downloading https://files.pythonhosted.org/packages/54/c0/b8fb5bb727e983b6f5251433ef941b48f38c65bb0bd6ec509e9185bcd406/dlx-1.0.4.tar.gz\n",
            "Collecting quandl<=3.6.0\n",
            "  Downloading https://files.pythonhosted.org/packages/c2/58/9f0e69d836045e3865d263e9ed49f42b23a58526fdabb30f74c430baee3f/Quandl-3.6.0-py2.py3-none-any.whl\n",
            "Requirement already satisfied: mpmath>=0.19 in /usr/local/lib/python3.7/dist-packages (from sympy>=1.3->qiskit-terra==0.17.4->qiskit) (1.2.1)\n",
            "Requirement already satisfied: six>=1.5 in /usr/local/lib/python3.7/dist-packages (from python-dateutil>=2.8.0->qiskit-terra==0.17.4->qiskit) (1.15.0)\n",
            "Collecting ntlm-auth>=1.0.2\n",
            "  Downloading https://files.pythonhosted.org/packages/ff/84/97c550164b54942b0e908c31ef09d9469f3ba4cd7332a671e2125732f63b/ntlm_auth-1.5.0-py2.py3-none-any.whl\n",
            "Collecting cryptography>=1.3\n",
            "\u001b[?25l  Downloading https://files.pythonhosted.org/packages/b2/26/7af637e6a7e87258b963f1731c5982fb31cd507f0d90d91836e446955d02/cryptography-3.4.7-cp36-abi3-manylinux2014_x86_64.whl (3.2MB)\n",
            "\u001b[K     |████████████████████████████████| 3.2MB 44.5MB/s \n",
            "\u001b[?25hRequirement already satisfied: idna<3,>=2.5 in /usr/local/lib/python3.7/dist-packages (from requests>=2.19->qiskit-ibmq-provider==0.13.1->qiskit) (2.10)\n",
            "Requirement already satisfied: certifi>=2017.4.17 in /usr/local/lib/python3.7/dist-packages (from requests>=2.19->qiskit-ibmq-provider==0.13.1->qiskit) (2020.12.5)\n",
            "Requirement already satisfied: chardet<4,>=3.0.2 in /usr/local/lib/python3.7/dist-packages (from requests>=2.19->qiskit-ibmq-provider==0.13.1->qiskit) (3.0.4)\n",
            "Requirement already satisfied: joblib>=0.11 in /usr/local/lib/python3.7/dist-packages (from scikit-learn<=0.24.1,>=0.20.0->qiskit-aqua==0.9.1->qiskit) (1.0.1)\n",
            "Requirement already satisfied: pytz>=2017.2 in /usr/local/lib/python3.7/dist-packages (from pandas<=1.2.3->qiskit-aqua==0.9.1->qiskit) (2018.9)\n",
            "Requirement already satisfied: cached-property; python_version < \"3.8\" in /usr/local/lib/python3.7/dist-packages (from h5py<=3.1.0->qiskit-aqua==0.9.1->qiskit) (1.5.2)\n",
            "Requirement already satisfied: multitasking>=0.0.7 in /usr/local/lib/python3.7/dist-packages (from yfinance<=0.1.55->qiskit-aqua==0.9.1->qiskit) (0.0.9)\n",
            "Collecting lxml>=4.5.1\n",
            "\u001b[?25l  Downloading https://files.pythonhosted.org/packages/30/c0/d0526314971fc661b083ab135747dc68446a3022686da8c16d25fcf6ef07/lxml-4.6.3-cp37-cp37m-manylinux2014_x86_64.whl (6.3MB)\n",
            "\u001b[K     |████████████████████████████████| 6.3MB 40.7MB/s \n",
            "\u001b[?25hRequirement already satisfied: more-itertools in /usr/local/lib/python3.7/dist-packages (from quandl<=3.6.0->qiskit-aqua==0.9.1->qiskit) (8.7.0)\n",
            "Collecting inflection>=0.3.1\n",
            "  Downloading https://files.pythonhosted.org/packages/59/91/aa6bde563e0085a02a435aa99b49ef75b0a4b062635e606dab23ce18d720/inflection-0.5.1-py2.py3-none-any.whl\n",
            "Requirement already satisfied: cffi>=1.12 in /usr/local/lib/python3.7/dist-packages (from cryptography>=1.3->requests-ntlm>=1.1.0->qiskit-ibmq-provider==0.13.1->qiskit) (1.14.5)\n",
            "Requirement already satisfied: pycparser in /usr/local/lib/python3.7/dist-packages (from cffi>=1.12->cryptography>=1.3->requests-ntlm>=1.1.0->qiskit-ibmq-provider==0.13.1->qiskit) (2.20)\n",
            "Building wheels for collected packages: qiskit, python-constraint, docplex, yfinance, dlx\n",
            "  Building wheel for qiskit (setup.py) ... \u001b[?25l\u001b[?25hdone\n",
            "  Created wheel for qiskit: filename=qiskit-0.26.2-cp37-none-any.whl size=10491 sha256=666e1fd749f97a682396d19c5a25326091c9fbb38b8c3cf918598c55047db16d\n",
            "  Stored in directory: /root/.cache/pip/wheels/89/89/34/524839952d5a58a7be9789e580bfc1ca883bf6579152444568\n",
            "  Building wheel for python-constraint (setup.py) ... \u001b[?25l\u001b[?25hdone\n",
            "  Created wheel for python-constraint: filename=python_constraint-1.4.0-py2.py3-none-any.whl size=24079 sha256=fe66da1806a62e21b08beee63f584dee725a21f2a42ddbf0103272734bee68b1\n",
            "  Stored in directory: /root/.cache/pip/wheels/34/31/15/7b070b25d0a549d20ce2e9fe6d727471c2c61ef904720fd40c\n",
            "  Building wheel for docplex (setup.py) ... \u001b[?25l\u001b[?25hdone\n",
            "  Created wheel for docplex: filename=docplex-2.20.204-cp37-none-any.whl size=675362 sha256=299b3561a249f4090b2196044c9478e5da2a5135b6d74ae3647489782ed52c23\n",
            "  Stored in directory: /root/.cache/pip/wheels/ae/2c/e2/a099ebb6fda8adeba9c5fc2e25659d195ad2f5c6cc5fb75fd4\n",
            "  Building wheel for yfinance (setup.py) ... \u001b[?25l\u001b[?25hdone\n",
            "  Created wheel for yfinance: filename=yfinance-0.1.55-py2.py3-none-any.whl size=22616 sha256=db5a2cccdf4394d08d52f3dfa138c24d86890db1fa04261f25aac7972b754d25\n",
            "  Stored in directory: /root/.cache/pip/wheels/04/98/cc/2702a4242d60bdc14f48b4557c427ded1fe92aedf257d4565c\n",
            "  Building wheel for dlx (setup.py) ... \u001b[?25l\u001b[?25hdone\n",
            "  Created wheel for dlx: filename=dlx-1.0.4-cp37-none-any.whl size=5712 sha256=81e3bce62c9feaf1c351edacb3e998d33f0d9018045464143d75ec6c562cc2c7\n",
            "  Stored in directory: /root/.cache/pip/wheels/bb/ba/15/fdd0deb104df3254912998150ba9245668db06b00af5912d1a\n",
            "Successfully built qiskit python-constraint docplex yfinance dlx\n",
            "Installing collected packages: fastjsonschema, retworkx, python-constraint, ply, qiskit-terra, pybind11, qiskit-aer, ntlm-auth, cryptography, requests-ntlm, websockets, qiskit-ibmq-provider, qiskit-ignis, docplex, lxml, yfinance, dlx, inflection, quandl, qiskit-aqua, qiskit\n",
            "  Found existing installation: lxml 4.2.6\n",
            "    Uninstalling lxml-4.2.6:\n",
            "      Successfully uninstalled lxml-4.2.6\n",
            "Successfully installed cryptography-3.4.7 dlx-1.0.4 docplex-2.20.204 fastjsonschema-2.15.1 inflection-0.5.1 lxml-4.6.3 ntlm-auth-1.5.0 ply-3.11 pybind11-2.6.2 python-constraint-1.4.0 qiskit-0.26.2 qiskit-aer-0.8.2 qiskit-aqua-0.9.1 qiskit-ibmq-provider-0.13.1 qiskit-ignis-0.6.0 qiskit-terra-0.17.4 quandl-3.6.0 requests-ntlm-1.1.0 retworkx-0.8.0 websockets-9.1 yfinance-0.1.55\n"
          ],
          "name": "stdout"
        }
      ]
    },
    {
      "cell_type": "code",
      "metadata": {
        "id": "_6f-yNgt0USH"
      },
      "source": [
        "import qiskit\n",
        "from qiskit import *\n",
        "from qiskit.compiler import assemble\n",
        "from qiskit.visualization import plot_histogram\n",
        "\n",
        "\n",
        "import tensorflow as tf\n",
        "from tensorflow.keras import layers\n",
        "\n",
        "import matplotlib.pyplot as plt\n",
        "import numpy as np\n",
        "import os\n",
        "import pandas as pd\n",
        "from tqdm import tqdm"
      ],
      "execution_count": 2,
      "outputs": []
    },
    {
      "cell_type": "code",
      "metadata": {
        "id": "WW4s04Dk0gMt"
      },
      "source": [
        "shots = 4000\n",
        "number = 4\n",
        "equality = shots / np.power(2, number)"
      ],
      "execution_count": 13,
      "outputs": []
    },
    {
      "cell_type": "code",
      "metadata": {
        "colab": {
          "base_uri": "https://localhost:8080/"
        },
        "id": "NXzvKJU-0jmd",
        "outputId": "7040ae9d-4daa-40d9-af47-44331cfedf0a"
      },
      "source": [
        "Dataset_size = 2048\n",
        "backend = Aer.get_backend('qasm_simulator')\n",
        "\n",
        "df = pd.DataFrame()\n",
        "\n",
        "for i in tqdm(range(Dataset_size)):\n",
        "    \n",
        "    qc = QuantumCircuit(number, number)\n",
        "\n",
        "    rng = np.random.default_rng()\n",
        "    \n",
        "    random_value = []\n",
        "\n",
        "    for i in range(number):\n",
        "        inside_random = [rng.random() * np.pi for i in range(3)]\n",
        "        qc.rx(inside_random[0], i)\n",
        "        qc.ry(inside_random[1], i)\n",
        "        qc.rz(inside_random[2], i)\n",
        "        \n",
        "        random_value = np.concatenate((random_value, inside_random))\n",
        "\n",
        "    qc.measure(range(number), range(number))\n",
        "    circ = transpile(qc, backend)\n",
        "\n",
        "    qobj = assemble(circ, shots=shots)\n",
        "\n",
        "    # Run and get counts\n",
        "    result = backend.run(qobj).result()\n",
        "    counts = result.get_counts()\n",
        "    \n",
        "    df_temp = pd.DataFrame(counts, index=[i])\n",
        "    \n",
        "    for i in range(number * 3):\n",
        "        df_temp[f\"target_{i}\"] = [random_value[i]]\n",
        "    \n",
        "    df = df.append(df_temp)\n",
        "    \n",
        "    "
      ],
      "execution_count": 68,
      "outputs": [
        {
          "output_type": "stream",
          "text": [
            "100%|██████████| 2048/2048 [00:54<00:00, 37.51it/s]\n"
          ],
          "name": "stderr"
        }
      ]
    },
    {
      "cell_type": "code",
      "metadata": {
        "colab": {
          "base_uri": "https://localhost:8080/",
          "height": 224
        },
        "id": "Y85diwXWaMZp",
        "outputId": "0e0297af-9545-4625-dfb7-23a0e391ff7d"
      },
      "source": [
        "copied_df = df.copy()\n",
        "\n",
        "# copied_df = (copied_df - copied_df.min()) / (copied_df.max() - copied_df.min())\n",
        "train_mean = copied_df.mean()\n",
        "train_std = copied_df.std()\n",
        "\n",
        "copied_df = (copied_df - train_mean) / train_std\n",
        "\n",
        "# Replace all nan with 0\n",
        "copied_df = copied_df.fillna(0)\n",
        "\n",
        "copied_df.head()"
      ],
      "execution_count": 69,
      "outputs": [
        {
          "output_type": "execute_result",
          "data": {
            "text/html": [
              "<div>\n",
              "<style scoped>\n",
              "    .dataframe tbody tr th:only-of-type {\n",
              "        vertical-align: middle;\n",
              "    }\n",
              "\n",
              "    .dataframe tbody tr th {\n",
              "        vertical-align: top;\n",
              "    }\n",
              "\n",
              "    .dataframe thead th {\n",
              "        text-align: right;\n",
              "    }\n",
              "</style>\n",
              "<table border=\"1\" class=\"dataframe\">\n",
              "  <thead>\n",
              "    <tr style=\"text-align: right;\">\n",
              "      <th></th>\n",
              "      <th>0010</th>\n",
              "      <th>0011</th>\n",
              "      <th>0000</th>\n",
              "      <th>0111</th>\n",
              "      <th>1001</th>\n",
              "      <th>1011</th>\n",
              "      <th>1101</th>\n",
              "      <th>0110</th>\n",
              "      <th>0100</th>\n",
              "      <th>1110</th>\n",
              "      <th>1000</th>\n",
              "      <th>0001</th>\n",
              "      <th>0101</th>\n",
              "      <th>1100</th>\n",
              "      <th>1010</th>\n",
              "      <th>1111</th>\n",
              "      <th>target_0</th>\n",
              "      <th>target_1</th>\n",
              "      <th>target_2</th>\n",
              "      <th>target_3</th>\n",
              "      <th>target_4</th>\n",
              "      <th>target_5</th>\n",
              "      <th>target_6</th>\n",
              "      <th>target_7</th>\n",
              "      <th>target_8</th>\n",
              "      <th>target_9</th>\n",
              "      <th>target_10</th>\n",
              "      <th>target_11</th>\n",
              "    </tr>\n",
              "  </thead>\n",
              "  <tbody>\n",
              "    <tr>\n",
              "      <th>3</th>\n",
              "      <td>-0.501552</td>\n",
              "      <td>-0.544240</td>\n",
              "      <td>-0.326182</td>\n",
              "      <td>-0.559762</td>\n",
              "      <td>0.606413</td>\n",
              "      <td>0.046723</td>\n",
              "      <td>0.612794</td>\n",
              "      <td>-0.575505</td>\n",
              "      <td>-0.226799</td>\n",
              "      <td>0.126753</td>\n",
              "      <td>0.764865</td>\n",
              "      <td>-0.351582</td>\n",
              "      <td>-0.379472</td>\n",
              "      <td>0.868167</td>\n",
              "      <td>0.164312</td>\n",
              "      <td>-0.003416</td>\n",
              "      <td>-1.125179</td>\n",
              "      <td>-0.096933</td>\n",
              "      <td>-0.247424</td>\n",
              "      <td>-1.412077</td>\n",
              "      <td>-0.334593</td>\n",
              "      <td>-1.679524</td>\n",
              "      <td>0.038427</td>\n",
              "      <td>-1.665409</td>\n",
              "      <td>-0.916450</td>\n",
              "      <td>1.289488</td>\n",
              "      <td>-0.632902</td>\n",
              "      <td>-1.503149</td>\n",
              "    </tr>\n",
              "    <tr>\n",
              "      <th>3</th>\n",
              "      <td>-0.148173</td>\n",
              "      <td>2.597203</td>\n",
              "      <td>-0.319593</td>\n",
              "      <td>1.516007</td>\n",
              "      <td>-0.562863</td>\n",
              "      <td>-0.528980</td>\n",
              "      <td>-0.656767</td>\n",
              "      <td>-0.279782</td>\n",
              "      <td>-0.498350</td>\n",
              "      <td>-0.786893</td>\n",
              "      <td>-0.777965</td>\n",
              "      <td>1.613023</td>\n",
              "      <td>0.870405</td>\n",
              "      <td>-0.845428</td>\n",
              "      <td>-0.739046</td>\n",
              "      <td>-0.547400</td>\n",
              "      <td>-1.430228</td>\n",
              "      <td>0.780582</td>\n",
              "      <td>1.510446</td>\n",
              "      <td>-0.312248</td>\n",
              "      <td>0.573721</td>\n",
              "      <td>-1.138797</td>\n",
              "      <td>-0.180041</td>\n",
              "      <td>-1.358540</td>\n",
              "      <td>0.886665</td>\n",
              "      <td>-1.510330</td>\n",
              "      <td>-1.008921</td>\n",
              "      <td>-1.545038</td>\n",
              "    </tr>\n",
              "    <tr>\n",
              "      <th>3</th>\n",
              "      <td>1.108655</td>\n",
              "      <td>-0.014399</td>\n",
              "      <td>0.085621</td>\n",
              "      <td>0.113460</td>\n",
              "      <td>-0.642082</td>\n",
              "      <td>-0.522126</td>\n",
              "      <td>-0.643368</td>\n",
              "      <td>1.630522</td>\n",
              "      <td>0.438832</td>\n",
              "      <td>0.322534</td>\n",
              "      <td>-0.485989</td>\n",
              "      <td>-0.497240</td>\n",
              "      <td>-0.355502</td>\n",
              "      <td>-0.355830</td>\n",
              "      <td>-0.041145</td>\n",
              "      <td>-0.382139</td>\n",
              "      <td>-1.742204</td>\n",
              "      <td>-0.484512</td>\n",
              "      <td>1.166919</td>\n",
              "      <td>1.128968</td>\n",
              "      <td>-0.532727</td>\n",
              "      <td>-0.908971</td>\n",
              "      <td>-0.216565</td>\n",
              "      <td>0.878581</td>\n",
              "      <td>-0.302743</td>\n",
              "      <td>-1.380963</td>\n",
              "      <td>-0.432370</td>\n",
              "      <td>-1.072903</td>\n",
              "    </tr>\n",
              "    <tr>\n",
              "      <th>3</th>\n",
              "      <td>-0.801590</td>\n",
              "      <td>-0.766431</td>\n",
              "      <td>-0.757751</td>\n",
              "      <td>-0.137348</td>\n",
              "      <td>-0.524838</td>\n",
              "      <td>-0.662625</td>\n",
              "      <td>2.739897</td>\n",
              "      <td>-0.340966</td>\n",
              "      <td>0.031505</td>\n",
              "      <td>0.133622</td>\n",
              "      <td>-0.718243</td>\n",
              "      <td>-0.756582</td>\n",
              "      <td>0.932043</td>\n",
              "      <td>1.116414</td>\n",
              "      <td>-0.771659</td>\n",
              "      <td>1.136196</td>\n",
              "      <td>-1.223831</td>\n",
              "      <td>0.373700</td>\n",
              "      <td>-0.908919</td>\n",
              "      <td>1.269736</td>\n",
              "      <td>0.323561</td>\n",
              "      <td>0.098286</td>\n",
              "      <td>1.558154</td>\n",
              "      <td>-1.113717</td>\n",
              "      <td>0.282960</td>\n",
              "      <td>0.587915</td>\n",
              "      <td>-0.969978</td>\n",
              "      <td>-1.099384</td>\n",
              "    </tr>\n",
              "    <tr>\n",
              "      <th>3</th>\n",
              "      <td>-0.174843</td>\n",
              "      <td>-0.065674</td>\n",
              "      <td>0.029616</td>\n",
              "      <td>-0.520161</td>\n",
              "      <td>0.793370</td>\n",
              "      <td>0.711522</td>\n",
              "      <td>-0.130854</td>\n",
              "      <td>-0.551711</td>\n",
              "      <td>-0.531466</td>\n",
              "      <td>-0.319766</td>\n",
              "      <td>0.804680</td>\n",
              "      <td>0.156444</td>\n",
              "      <td>-0.468504</td>\n",
              "      <td>-0.228258</td>\n",
              "      <td>0.490434</td>\n",
              "      <td>-0.296065</td>\n",
              "      <td>-0.096641</td>\n",
              "      <td>0.571975</td>\n",
              "      <td>0.785265</td>\n",
              "      <td>-1.351434</td>\n",
              "      <td>-0.160765</td>\n",
              "      <td>-0.023088</td>\n",
              "      <td>-0.793584</td>\n",
              "      <td>-0.706839</td>\n",
              "      <td>-0.822727</td>\n",
              "      <td>1.760039</td>\n",
              "      <td>-0.365827</td>\n",
              "      <td>1.215943</td>\n",
              "    </tr>\n",
              "  </tbody>\n",
              "</table>\n",
              "</div>"
            ],
            "text/plain": [
              "       0010      0011      0000  ...  target_9  target_10  target_11\n",
              "3 -0.501552 -0.544240 -0.326182  ...  1.289488  -0.632902  -1.503149\n",
              "3 -0.148173  2.597203 -0.319593  ... -1.510330  -1.008921  -1.545038\n",
              "3  1.108655 -0.014399  0.085621  ... -1.380963  -0.432370  -1.072903\n",
              "3 -0.801590 -0.766431 -0.757751  ...  0.587915  -0.969978  -1.099384\n",
              "3 -0.174843 -0.065674  0.029616  ...  1.760039  -0.365827   1.215943\n",
              "\n",
              "[5 rows x 28 columns]"
            ]
          },
          "metadata": {
            "tags": []
          },
          "execution_count": 69
        }
      ]
    },
    {
      "cell_type": "code",
      "metadata": {
        "colab": {
          "base_uri": "https://localhost:8080/"
        },
        "id": "bt7_LTs5aOXY",
        "outputId": "856393e2-4ce7-43ff-c286-e41c4c0d6763"
      },
      "source": [
        "# Check if there are any NaNs. \n",
        "copied_df.isnull().values.any()"
      ],
      "execution_count": 70,
      "outputs": [
        {
          "output_type": "execute_result",
          "data": {
            "text/plain": [
              "False"
            ]
          },
          "metadata": {
            "tags": []
          },
          "execution_count": 70
        }
      ]
    },
    {
      "cell_type": "code",
      "metadata": {
        "id": "qwPufBce0ljF"
      },
      "source": [
        "batch_size = 1\n",
        "\n",
        "target = copied_df.iloc[:, -3 * number:]\n",
        "df = copied_df.iloc[:, :-3 * number]\n",
        "\n",
        "# target = df.pop(\"target\")\n",
        "dataset = tf.data.Dataset.from_tensor_slices((df.values, target.values))\n",
        "\n",
        "train_dataset = dataset.cache().shuffle(len(df)).batch(batch_size)\n",
        "train_dataset = train_dataset.prefetch(tf.data.experimental.AUTOTUNE)"
      ],
      "execution_count": 71,
      "outputs": []
    },
    {
      "cell_type": "code",
      "metadata": {
        "colab": {
          "base_uri": "https://localhost:8080/"
        },
        "id": "cgA7TGnb26oG",
        "outputId": "3d7614b1-e17f-4c44-f492-d37b454d2004"
      },
      "source": [
        "Dense = tf.keras.layers.Dense\n",
        "\n",
        "tf.keras.backend.clear_session()\n",
        "\n",
        "model = tf.keras.Sequential([\n",
        "    Dense(3 * number, input_shape=(len(df.columns), ), activation=tf.nn.relu),\n",
        "    Dense(1024, activation=tf.nn.relu),\n",
        "    Dense(256, activation=tf.nn.relu),\n",
        "    Dense(3 * number, activation=tf.nn.sigmoid)\n",
        "])\n",
        "\n",
        "model.compile(optimizer=tf.optimizers.Adam(learning_rate=0.1), loss=\"mean_squared_error\")\n",
        "\n",
        "model.fit(train_dataset, epochs=10,)"
      ],
      "execution_count": 72,
      "outputs": [
        {
          "output_type": "stream",
          "text": [
            "Epoch 1/10\n",
            "2048/2048 [==============================] - 4s 2ms/step - loss: 1.4998\n",
            "Epoch 2/10\n",
            "2048/2048 [==============================] - 4s 2ms/step - loss: 1.4995\n",
            "Epoch 3/10\n",
            "2048/2048 [==============================] - 4s 2ms/step - loss: 1.4995\n",
            "Epoch 4/10\n",
            "2048/2048 [==============================] - 4s 2ms/step - loss: 1.4995\n",
            "Epoch 5/10\n",
            "2048/2048 [==============================] - 4s 2ms/step - loss: 1.4995\n",
            "Epoch 6/10\n",
            "2048/2048 [==============================] - 4s 2ms/step - loss: 1.4995\n",
            "Epoch 7/10\n",
            "2048/2048 [==============================] - 4s 2ms/step - loss: 1.4995\n",
            "Epoch 8/10\n",
            "2048/2048 [==============================] - 4s 2ms/step - loss: 1.4995\n",
            "Epoch 9/10\n",
            "2048/2048 [==============================] - 4s 2ms/step - loss: 1.4995\n",
            "Epoch 10/10\n",
            "2048/2048 [==============================] - 4s 2ms/step - loss: 1.4995\n"
          ],
          "name": "stdout"
        },
        {
          "output_type": "execute_result",
          "data": {
            "text/plain": [
              "<tensorflow.python.keras.callbacks.History at 0x7fd84da146d0>"
            ]
          },
          "metadata": {
            "tags": []
          },
          "execution_count": 72
        }
      ]
    },
    {
      "cell_type": "code",
      "metadata": {
        "id": "cuwyLC7SdEus"
      },
      "source": [
        "value_this = np.rint(np.random.dirichlet(np.ones(16), size=1) * shots)\n",
        "# value_this = np.reshape([0, 0, 0, 0, 0, 0, 0, 0, 0, 0, 0, 0, 0, 0, 0, shots], (1, 16))\n",
        "new_val = (value_this - train_mean[:-3 * number].values) / train_std[:-3 * number].values"
      ],
      "execution_count": 121,
      "outputs": []
    },
    {
      "cell_type": "code",
      "metadata": {
        "id": "cEOm3RoL7U8-"
      },
      "source": [
        "pred = model.predict(new_val)\n",
        "pred = (pred * train_std[-3 * number:].values) + train_mean[-3 * number:].values\n",
        "pred = np.squeeze(pred)"
      ],
      "execution_count": 122,
      "outputs": []
    },
    {
      "cell_type": "code",
      "metadata": {
        "id": "DXLL2RAm7asN",
        "colab": {
          "base_uri": "https://localhost:8080/",
          "height": 348
        },
        "outputId": "0dd6145b-d05a-455a-f95d-050d84a852b6"
      },
      "source": [
        "qc = QuantumCircuit(number, number)\n",
        "\n",
        "for i in range(number):\n",
        "    qc.rx(pred[0 * (i + 1)], i)\n",
        "    qc.ry(pred[0 * (i + 2)], i)\n",
        "    qc.rz(pred[0 * (i + 3)], i)\n",
        "\n",
        "qc.measure(range(number), range(number))\n",
        "circ = transpile(qc, backend)\n",
        "\n",
        "qobj = assemble(circ, shots=shots)\n",
        "\n",
        "# Run and get counts\n",
        "result = backend.run(qobj).result()\n",
        "counts = result.get_counts()\n",
        "plot_histogram(counts)"
      ],
      "execution_count": 123,
      "outputs": [
        {
          "output_type": "execute_result",
          "data": {
            "image/png": "[encoded data removed]",
            "text/plain": [
              "<Figure size 504x360 with 1 Axes>"
            ]
          },
          "metadata": {
            "tags": []
          },
          "execution_count": 123
        }
      ]
    },
    {
      "cell_type": "code",
      "metadata": {
        "id": "zxW1EtYY7cPG",
        "colab": {
          "base_uri": "https://localhost:8080/"
        },
        "outputId": "8af66dc5-7b94-4f64-96cd-d8e48a2afb5f"
      },
      "source": [
        "pred"
      ],
      "execution_count": 124,
      "outputs": [
        {
          "output_type": "execute_result",
          "data": {
            "text/plain": [
              "array([2.49347505, 2.47280132, 2.51305636, 1.53896315, 2.53338271,\n",
              "       1.57226614, 2.45784733, 1.52983895, 1.5794965 , 1.55878848,\n",
              "       2.47334759, 1.55470769])"
            ]
          },
          "metadata": {
            "tags": []
          },
          "execution_count": 124
        }
      ]
    },
    {
      "cell_type": "code",
      "metadata": {
        "id": "-cuj_t7KggMM"
      },
      "source": [
        "names = ['{0:04b}'.format(i) for i in range(2 ** number)]\n",
        "pred_df = pd.DataFrame(value_this, columns = names)"
      ],
      "execution_count": 138,
      "outputs": []
    },
    {
      "cell_type": "code",
      "metadata": {
        "colab": {
          "base_uri": "https://localhost:8080/",
          "height": 348
        },
        "id": "TzxrICOuieeT",
        "outputId": "49c1790f-8d23-48ef-9b48-b7857e1043b5"
      },
      "source": [
        "plot_histogram(pred_df.to_dict(\"records\"))"
      ],
      "execution_count": 140,
      "outputs": [
        {
          "output_type": "execute_result",
          "data": {
            "image/png": "[encoded data removed]",
            "text/plain": [
              "<Figure size 504x360 with 1 Axes>"
            ]
          },
          "metadata": {
            "tags": []
          },
          "execution_count": 140
        }
      ]
    },
    {
      "cell_type": "code",
      "metadata": {
        "colab": {
          "base_uri": "https://localhost:8080/"
        },
        "id": "DQ_widoVgStq",
        "outputId": "0f438fd4-a191-47d9-c206-309ce1d1f745"
      },
      "source": [
        "diff = 0\n",
        "value_this = np.squeeze(value_this)\n",
        "for key, value in counts.items():\n",
        "  diff += abs(value_this[int(key, 2)] - value)\n",
        "\n",
        "print(diff)"
      ],
      "execution_count": 141,
      "outputs": [
        {
          "output_type": "stream",
          "text": [
            "3548.0\n"
          ],
          "name": "stdout"
        }
      ]
    },
    {
      "cell_type": "code",
      "metadata": {
        "id": "HDRSqwrcioOa"
      },
      "source": [
        ""
      ],
      "execution_count": null,
      "outputs": []
    }
  ]
}